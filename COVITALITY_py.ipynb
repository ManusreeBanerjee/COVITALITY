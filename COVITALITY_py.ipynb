{
  "nbformat": 4,
  "nbformat_minor": 0,
  "metadata": {
    "colab": {
      "name": "COVITALITY.py",
      "provenance": [],
      "collapsed_sections": []
    },
    "kernelspec": {
      "name": "python3",
      "display_name": "Python 3"
    },
    "language_info": {
      "name": "python"
    }
  },
  "cells": [
    {
      "cell_type": "markdown",
      "metadata": {
        "id": "XTlSrxLd6RRv"
      },
      "source": [
        "Import streamlit,pyngrok, and ngrok modules"
      ]
    },
    {
      "cell_type": "code",
      "metadata": {
        "id": "EnWxHDPS6WR6",
        "colab": {
          "base_uri": "https://localhost:8080/",
          "height": 1000
        },
        "outputId": "f3fc0bee-90b0-4f40-b93a-e6355dd8ba0c"
      },
      "source": [
        "!pip install streamlit\n",
        "!pip install pyngrok===4.1.1\n",
        "!pip install plotly\n",
        "from pyngrok import ngrok"
      ],
      "execution_count": 1,
      "outputs": [
        {
          "output_type": "stream",
          "text": [
            "Collecting streamlit\n",
            "  Downloading streamlit-0.87.0-py2.py3-none-any.whl (8.0 MB)\n",
            "\u001b[K     |████████████████████████████████| 8.0 MB 5.2 MB/s \n",
            "\u001b[?25hCollecting base58\n",
            "  Downloading base58-2.1.0-py3-none-any.whl (5.6 kB)\n",
            "Requirement already satisfied: astor in /usr/local/lib/python3.7/dist-packages (from streamlit) (0.8.1)\n",
            "Requirement already satisfied: python-dateutil in /usr/local/lib/python3.7/dist-packages (from streamlit) (2.8.2)\n",
            "Requirement already satisfied: tornado>=5.0 in /usr/local/lib/python3.7/dist-packages (from streamlit) (5.1.1)\n",
            "Requirement already satisfied: pillow>=6.2.0 in /usr/local/lib/python3.7/dist-packages (from streamlit) (7.1.2)\n",
            "Requirement already satisfied: click<8.0,>=7.0 in /usr/local/lib/python3.7/dist-packages (from streamlit) (7.1.2)\n",
            "Collecting validators\n",
            "  Downloading validators-0.18.2-py3-none-any.whl (19 kB)\n",
            "Collecting pydeck>=0.1.dev5\n",
            "  Downloading pydeck-0.6.2-py2.py3-none-any.whl (4.2 MB)\n",
            "\u001b[K     |████████████████████████████████| 4.2 MB 50.6 MB/s \n",
            "\u001b[?25hRequirement already satisfied: attrs in /usr/local/lib/python3.7/dist-packages (from streamlit) (21.2.0)\n",
            "Requirement already satisfied: pandas>=0.21.0 in /usr/local/lib/python3.7/dist-packages (from streamlit) (1.1.5)\n",
            "Requirement already satisfied: protobuf!=3.11,>=3.6.0 in /usr/local/lib/python3.7/dist-packages (from streamlit) (3.17.3)\n",
            "Requirement already satisfied: toml in /usr/local/lib/python3.7/dist-packages (from streamlit) (0.10.2)\n",
            "Requirement already satisfied: numpy in /usr/local/lib/python3.7/dist-packages (from streamlit) (1.19.5)\n",
            "Requirement already satisfied: altair>=3.2.0 in /usr/local/lib/python3.7/dist-packages (from streamlit) (4.1.0)\n",
            "Requirement already satisfied: packaging in /usr/local/lib/python3.7/dist-packages (from streamlit) (21.0)\n",
            "Collecting gitpython!=3.1.19\n",
            "  Downloading GitPython-3.1.18-py3-none-any.whl (170 kB)\n",
            "\u001b[K     |████████████████████████████████| 170 kB 57.5 MB/s \n",
            "\u001b[?25hCollecting watchdog\n",
            "  Downloading watchdog-2.1.4-py3-none-manylinux2014_x86_64.whl (75 kB)\n",
            "\u001b[K     |████████████████████████████████| 75 kB 4.3 MB/s \n",
            "\u001b[?25hRequirement already satisfied: cachetools>=4.0 in /usr/local/lib/python3.7/dist-packages (from streamlit) (4.2.2)\n",
            "Requirement already satisfied: requests in /usr/local/lib/python3.7/dist-packages (from streamlit) (2.23.0)\n",
            "Requirement already satisfied: tzlocal in /usr/local/lib/python3.7/dist-packages (from streamlit) (1.5.1)\n",
            "Requirement already satisfied: pyarrow in /usr/local/lib/python3.7/dist-packages (from streamlit) (3.0.0)\n",
            "Collecting blinker\n",
            "  Downloading blinker-1.4.tar.gz (111 kB)\n",
            "\u001b[K     |████████████████████████████████| 111 kB 47.4 MB/s \n",
            "\u001b[?25hRequirement already satisfied: entrypoints in /usr/local/lib/python3.7/dist-packages (from altair>=3.2.0->streamlit) (0.3)\n",
            "Requirement already satisfied: toolz in /usr/local/lib/python3.7/dist-packages (from altair>=3.2.0->streamlit) (0.11.1)\n",
            "Requirement already satisfied: jinja2 in /usr/local/lib/python3.7/dist-packages (from altair>=3.2.0->streamlit) (2.11.3)\n",
            "Requirement already satisfied: jsonschema in /usr/local/lib/python3.7/dist-packages (from altair>=3.2.0->streamlit) (2.6.0)\n",
            "Requirement already satisfied: typing-extensions>=3.7.4.0 in /usr/local/lib/python3.7/dist-packages (from gitpython!=3.1.19->streamlit) (3.7.4.3)\n",
            "Collecting gitdb<5,>=4.0.1\n",
            "  Downloading gitdb-4.0.7-py3-none-any.whl (63 kB)\n",
            "\u001b[K     |████████████████████████████████| 63 kB 1.9 MB/s \n",
            "\u001b[?25hCollecting smmap<5,>=3.0.1\n",
            "  Downloading smmap-4.0.0-py2.py3-none-any.whl (24 kB)\n",
            "Requirement already satisfied: pytz>=2017.2 in /usr/local/lib/python3.7/dist-packages (from pandas>=0.21.0->streamlit) (2018.9)\n",
            "Requirement already satisfied: six>=1.9 in /usr/local/lib/python3.7/dist-packages (from protobuf!=3.11,>=3.6.0->streamlit) (1.15.0)\n",
            "Requirement already satisfied: traitlets>=4.3.2 in /usr/local/lib/python3.7/dist-packages (from pydeck>=0.1.dev5->streamlit) (5.0.5)\n",
            "Requirement already satisfied: ipywidgets>=7.0.0 in /usr/local/lib/python3.7/dist-packages (from pydeck>=0.1.dev5->streamlit) (7.6.3)\n",
            "Collecting ipykernel>=5.1.2\n",
            "  Downloading ipykernel-6.2.0-py3-none-any.whl (122 kB)\n",
            "\u001b[K     |████████████████████████████████| 122 kB 53.0 MB/s \n",
            "\u001b[?25hRequirement already satisfied: debugpy<2.0,>=1.0.0 in /usr/local/lib/python3.7/dist-packages (from ipykernel>=5.1.2->pydeck>=0.1.dev5->streamlit) (1.0.0)\n",
            "Requirement already satisfied: importlib-metadata<5 in /usr/local/lib/python3.7/dist-packages (from ipykernel>=5.1.2->pydeck>=0.1.dev5->streamlit) (4.6.4)\n",
            "Collecting ipython<8.0,>=7.23.1\n",
            "  Downloading ipython-7.26.0-py3-none-any.whl (786 kB)\n",
            "\u001b[K     |████████████████████████████████| 786 kB 45.3 MB/s \n",
            "\u001b[?25hRequirement already satisfied: argcomplete>=1.12.3 in /usr/local/lib/python3.7/dist-packages (from ipykernel>=5.1.2->pydeck>=0.1.dev5->streamlit) (1.12.3)\n",
            "Requirement already satisfied: jupyter-client<8.0 in /usr/local/lib/python3.7/dist-packages (from ipykernel>=5.1.2->pydeck>=0.1.dev5->streamlit) (5.3.5)\n",
            "Requirement already satisfied: matplotlib-inline<0.2.0,>=0.1.0 in /usr/local/lib/python3.7/dist-packages (from ipykernel>=5.1.2->pydeck>=0.1.dev5->streamlit) (0.1.2)\n",
            "Requirement already satisfied: zipp>=0.5 in /usr/local/lib/python3.7/dist-packages (from importlib-metadata<5->ipykernel>=5.1.2->pydeck>=0.1.dev5->streamlit) (3.5.0)\n",
            "Requirement already satisfied: pygments in /usr/local/lib/python3.7/dist-packages (from ipython<8.0,>=7.23.1->ipykernel>=5.1.2->pydeck>=0.1.dev5->streamlit) (2.6.1)\n",
            "Requirement already satisfied: setuptools>=18.5 in /usr/local/lib/python3.7/dist-packages (from ipython<8.0,>=7.23.1->ipykernel>=5.1.2->pydeck>=0.1.dev5->streamlit) (57.4.0)\n",
            "Collecting prompt-toolkit!=3.0.0,!=3.0.1,<3.1.0,>=2.0.0\n",
            "  Downloading prompt_toolkit-3.0.20-py3-none-any.whl (370 kB)\n",
            "\u001b[K     |████████████████████████████████| 370 kB 56.3 MB/s \n",
            "\u001b[?25hRequirement already satisfied: decorator in /usr/local/lib/python3.7/dist-packages (from ipython<8.0,>=7.23.1->ipykernel>=5.1.2->pydeck>=0.1.dev5->streamlit) (4.4.2)\n",
            "Requirement already satisfied: backcall in /usr/local/lib/python3.7/dist-packages (from ipython<8.0,>=7.23.1->ipykernel>=5.1.2->pydeck>=0.1.dev5->streamlit) (0.2.0)\n",
            "Requirement already satisfied: jedi>=0.16 in /usr/local/lib/python3.7/dist-packages (from ipython<8.0,>=7.23.1->ipykernel>=5.1.2->pydeck>=0.1.dev5->streamlit) (0.18.0)\n",
            "Requirement already satisfied: pickleshare in /usr/local/lib/python3.7/dist-packages (from ipython<8.0,>=7.23.1->ipykernel>=5.1.2->pydeck>=0.1.dev5->streamlit) (0.7.5)\n",
            "Requirement already satisfied: pexpect>4.3 in /usr/local/lib/python3.7/dist-packages (from ipython<8.0,>=7.23.1->ipykernel>=5.1.2->pydeck>=0.1.dev5->streamlit) (4.8.0)\n",
            "Requirement already satisfied: nbformat>=4.2.0 in /usr/local/lib/python3.7/dist-packages (from ipywidgets>=7.0.0->pydeck>=0.1.dev5->streamlit) (5.1.3)\n",
            "Requirement already satisfied: widgetsnbextension~=3.5.0 in /usr/local/lib/python3.7/dist-packages (from ipywidgets>=7.0.0->pydeck>=0.1.dev5->streamlit) (3.5.1)\n",
            "Requirement already satisfied: jupyterlab-widgets>=1.0.0 in /usr/local/lib/python3.7/dist-packages (from ipywidgets>=7.0.0->pydeck>=0.1.dev5->streamlit) (1.0.0)\n",
            "Requirement already satisfied: parso<0.9.0,>=0.8.0 in /usr/local/lib/python3.7/dist-packages (from jedi>=0.16->ipython<8.0,>=7.23.1->ipykernel>=5.1.2->pydeck>=0.1.dev5->streamlit) (0.8.2)\n",
            "Requirement already satisfied: MarkupSafe>=0.23 in /usr/local/lib/python3.7/dist-packages (from jinja2->altair>=3.2.0->streamlit) (2.0.1)\n",
            "Requirement already satisfied: pyzmq>=13 in /usr/local/lib/python3.7/dist-packages (from jupyter-client<8.0->ipykernel>=5.1.2->pydeck>=0.1.dev5->streamlit) (22.2.1)\n",
            "Requirement already satisfied: jupyter-core>=4.6.0 in /usr/local/lib/python3.7/dist-packages (from jupyter-client<8.0->ipykernel>=5.1.2->pydeck>=0.1.dev5->streamlit) (4.7.1)\n",
            "Requirement already satisfied: ipython-genutils in /usr/local/lib/python3.7/dist-packages (from nbformat>=4.2.0->ipywidgets>=7.0.0->pydeck>=0.1.dev5->streamlit) (0.2.0)\n",
            "Requirement already satisfied: ptyprocess>=0.5 in /usr/local/lib/python3.7/dist-packages (from pexpect>4.3->ipython<8.0,>=7.23.1->ipykernel>=5.1.2->pydeck>=0.1.dev5->streamlit) (0.7.0)\n",
            "Requirement already satisfied: wcwidth in /usr/local/lib/python3.7/dist-packages (from prompt-toolkit!=3.0.0,!=3.0.1,<3.1.0,>=2.0.0->ipython<8.0,>=7.23.1->ipykernel>=5.1.2->pydeck>=0.1.dev5->streamlit) (0.2.5)\n",
            "Requirement already satisfied: notebook>=4.4.1 in /usr/local/lib/python3.7/dist-packages (from widgetsnbextension~=3.5.0->ipywidgets>=7.0.0->pydeck>=0.1.dev5->streamlit) (5.3.1)\n",
            "Requirement already satisfied: terminado>=0.8.1 in /usr/local/lib/python3.7/dist-packages (from notebook>=4.4.1->widgetsnbextension~=3.5.0->ipywidgets>=7.0.0->pydeck>=0.1.dev5->streamlit) (0.11.0)\n",
            "Requirement already satisfied: nbconvert in /usr/local/lib/python3.7/dist-packages (from notebook>=4.4.1->widgetsnbextension~=3.5.0->ipywidgets>=7.0.0->pydeck>=0.1.dev5->streamlit) (5.6.1)\n",
            "Requirement already satisfied: Send2Trash in /usr/local/lib/python3.7/dist-packages (from notebook>=4.4.1->widgetsnbextension~=3.5.0->ipywidgets>=7.0.0->pydeck>=0.1.dev5->streamlit) (1.8.0)\n",
            "Requirement already satisfied: defusedxml in /usr/local/lib/python3.7/dist-packages (from nbconvert->notebook>=4.4.1->widgetsnbextension~=3.5.0->ipywidgets>=7.0.0->pydeck>=0.1.dev5->streamlit) (0.7.1)\n",
            "Requirement already satisfied: bleach in /usr/local/lib/python3.7/dist-packages (from nbconvert->notebook>=4.4.1->widgetsnbextension~=3.5.0->ipywidgets>=7.0.0->pydeck>=0.1.dev5->streamlit) (4.0.0)\n",
            "Requirement already satisfied: testpath in /usr/local/lib/python3.7/dist-packages (from nbconvert->notebook>=4.4.1->widgetsnbextension~=3.5.0->ipywidgets>=7.0.0->pydeck>=0.1.dev5->streamlit) (0.5.0)\n",
            "Requirement already satisfied: mistune<2,>=0.8.1 in /usr/local/lib/python3.7/dist-packages (from nbconvert->notebook>=4.4.1->widgetsnbextension~=3.5.0->ipywidgets>=7.0.0->pydeck>=0.1.dev5->streamlit) (0.8.4)\n",
            "Requirement already satisfied: pandocfilters>=1.4.1 in /usr/local/lib/python3.7/dist-packages (from nbconvert->notebook>=4.4.1->widgetsnbextension~=3.5.0->ipywidgets>=7.0.0->pydeck>=0.1.dev5->streamlit) (1.4.3)\n",
            "Requirement already satisfied: webencodings in /usr/local/lib/python3.7/dist-packages (from bleach->nbconvert->notebook>=4.4.1->widgetsnbextension~=3.5.0->ipywidgets>=7.0.0->pydeck>=0.1.dev5->streamlit) (0.5.1)\n",
            "Requirement already satisfied: pyparsing>=2.0.2 in /usr/local/lib/python3.7/dist-packages (from packaging->streamlit) (2.4.7)\n",
            "Requirement already satisfied: idna<3,>=2.5 in /usr/local/lib/python3.7/dist-packages (from requests->streamlit) (2.10)\n",
            "Requirement already satisfied: certifi>=2017.4.17 in /usr/local/lib/python3.7/dist-packages (from requests->streamlit) (2021.5.30)\n",
            "Requirement already satisfied: chardet<4,>=3.0.2 in /usr/local/lib/python3.7/dist-packages (from requests->streamlit) (3.0.4)\n",
            "Requirement already satisfied: urllib3!=1.25.0,!=1.25.1,<1.26,>=1.21.1 in /usr/local/lib/python3.7/dist-packages (from requests->streamlit) (1.24.3)\n",
            "Building wheels for collected packages: blinker\n",
            "  Building wheel for blinker (setup.py) ... \u001b[?25l\u001b[?25hdone\n",
            "  Created wheel for blinker: filename=blinker-1.4-py3-none-any.whl size=13478 sha256=bbffcec5e647ac6aa8349bd3ed48d0e35c097881874903965eb6dbe91b1e037d\n",
            "  Stored in directory: /root/.cache/pip/wheels/22/f5/18/df711b66eb25b21325c132757d4314db9ac5e8dabeaf196eab\n",
            "Successfully built blinker\n",
            "Installing collected packages: prompt-toolkit, ipython, ipykernel, smmap, gitdb, watchdog, validators, pydeck, gitpython, blinker, base58, streamlit\n",
            "  Attempting uninstall: prompt-toolkit\n",
            "    Found existing installation: prompt-toolkit 1.0.18\n",
            "    Uninstalling prompt-toolkit-1.0.18:\n",
            "      Successfully uninstalled prompt-toolkit-1.0.18\n",
            "  Attempting uninstall: ipython\n",
            "    Found existing installation: ipython 5.5.0\n",
            "    Uninstalling ipython-5.5.0:\n",
            "      Successfully uninstalled ipython-5.5.0\n",
            "  Attempting uninstall: ipykernel\n",
            "    Found existing installation: ipykernel 4.10.1\n",
            "    Uninstalling ipykernel-4.10.1:\n",
            "      Successfully uninstalled ipykernel-4.10.1\n",
            "\u001b[31mERROR: pip's dependency resolver does not currently take into account all the packages that are installed. This behaviour is the source of the following dependency conflicts.\n",
            "jupyter-console 5.2.0 requires prompt-toolkit<2.0.0,>=1.0.0, but you have prompt-toolkit 3.0.20 which is incompatible.\n",
            "google-colab 1.0.0 requires ipykernel~=4.10, but you have ipykernel 6.2.0 which is incompatible.\n",
            "google-colab 1.0.0 requires ipython~=5.5.0, but you have ipython 7.26.0 which is incompatible.\u001b[0m\n",
            "Successfully installed base58-2.1.0 blinker-1.4 gitdb-4.0.7 gitpython-3.1.18 ipykernel-6.2.0 ipython-7.26.0 prompt-toolkit-3.0.20 pydeck-0.6.2 smmap-4.0.0 streamlit-0.87.0 validators-0.18.2 watchdog-2.1.4\n"
          ],
          "name": "stdout"
        },
        {
          "output_type": "display_data",
          "data": {
            "application/vnd.colab-display-data+json": {
              "pip_warning": {
                "packages": [
                  "IPython",
                  "ipykernel",
                  "prompt_toolkit"
                ]
              }
            }
          },
          "metadata": {}
        },
        {
          "output_type": "stream",
          "text": [
            "Collecting pyngrok===4.1.1\n",
            "  Downloading pyngrok-4.1.1.tar.gz (18 kB)\n",
            "Requirement already satisfied: future in /usr/local/lib/python3.7/dist-packages (from pyngrok===4.1.1) (0.16.0)\n",
            "Requirement already satisfied: PyYAML in /usr/local/lib/python3.7/dist-packages (from pyngrok===4.1.1) (3.13)\n",
            "Building wheels for collected packages: pyngrok\n",
            "  Building wheel for pyngrok (setup.py) ... \u001b[?25l\u001b[?25hdone\n",
            "  Created wheel for pyngrok: filename=pyngrok-4.1.1-py3-none-any.whl size=15984 sha256=b8daf0d87bed67e7cda0229545ea70f079b9b9ace90d559036bcc3995b76ef62\n",
            "  Stored in directory: /root/.cache/pip/wheels/b1/d9/12/045a042fee3127dc40ba6f5df2798aa2df38c414bf533ca765\n",
            "Successfully built pyngrok\n",
            "Installing collected packages: pyngrok\n",
            "Successfully installed pyngrok-4.1.1\n",
            "Requirement already satisfied: tabulate in /usr/local/lib/python3.7/dist-packages (0.8.9)\n"
          ],
          "name": "stdout"
        }
      ]
    },
    {
      "cell_type": "code",
      "metadata": {
        "id": "Hzbj_vAR64bW",
        "colab": {
          "base_uri": "https://localhost:8080/"
        },
        "outputId": "c7bedf0c-9ab2-41c9-d335-54aa5a3e3f96"
      },
      "source": [
        "!ngrok authtoken 1wrCPm9O476DJaOBDl7bBXqwGIf_5VAxUTeShyY8fV1NkFjCG"
      ],
      "execution_count": 3,
      "outputs": [
        {
          "output_type": "stream",
          "text": [
            "Authtoken saved to configuration file: /root/.ngrok2/ngrok.yml\n"
          ],
          "name": "stdout"
        }
      ]
    },
    {
      "cell_type": "code",
      "metadata": {
        "id": "KfYNJSLU4x2Z",
        "colab": {
          "base_uri": "https://localhost:8080/",
          "height": 241
        },
        "outputId": "78b7f252-8793-40e4-af31-0bc66abc83ef"
      },
      "source": [
        "import numpy as np \n",
        "import pandas as pd \n",
        "import matplotlib.pyplot as plt\n",
        "import seaborn as sns\n",
        "\n",
        "df=pd.read_csv(\"/content/Final Data.csv\")\n",
        "df.head()"
      ],
      "execution_count": null,
      "outputs": [
        {
          "output_type": "execute_result",
          "data": {
            "text/html": [
              "<div>\n",
              "<style scoped>\n",
              "    .dataframe tbody tr th:only-of-type {\n",
              "        vertical-align: middle;\n",
              "    }\n",
              "\n",
              "    .dataframe tbody tr th {\n",
              "        vertical-align: top;\n",
              "    }\n",
              "\n",
              "    .dataframe thead th {\n",
              "        text-align: right;\n",
              "    }\n",
              "</style>\n",
              "<table border=\"1\" class=\"dataframe\">\n",
              "  <thead>\n",
              "    <tr style=\"text-align: right;\">\n",
              "      <th></th>\n",
              "      <th>Unnamed: 0</th>\n",
              "      <th>page</th>\n",
              "      <th>psex</th>\n",
              "      <th>ss_fev</th>\n",
              "      <th>ss_cou</th>\n",
              "      <th>ss_dys</th>\n",
              "      <th>ss_fa</th>\n",
              "      <th>co_dime</th>\n",
              "      <th>co_bp</th>\n",
              "      <th>co_kidis</th>\n",
              "      <th>co_lidis</th>\n",
              "      <th>co_cadis</th>\n",
              "      <th>co_obs</th>\n",
              "      <th>co_ild</th>\n",
              "      <th>co_imm</th>\n",
              "      <th>co_alc</th>\n",
              "      <th>co_smk</th>\n",
              "      <th>ss_oxsa</th>\n",
              "      <th>img_xray</th>\n",
              "      <th>tr_chis</th>\n",
              "      <th>po_po</th>\n",
              "    </tr>\n",
              "  </thead>\n",
              "  <tbody>\n",
              "    <tr>\n",
              "      <th>0</th>\n",
              "      <td>0</td>\n",
              "      <td>27</td>\n",
              "      <td>2</td>\n",
              "      <td>0</td>\n",
              "      <td>0</td>\n",
              "      <td>0</td>\n",
              "      <td>0</td>\n",
              "      <td>0</td>\n",
              "      <td>0</td>\n",
              "      <td>0</td>\n",
              "      <td>0</td>\n",
              "      <td>0</td>\n",
              "      <td>0</td>\n",
              "      <td>0</td>\n",
              "      <td>0</td>\n",
              "      <td>0</td>\n",
              "      <td>0</td>\n",
              "      <td>98</td>\n",
              "      <td>0</td>\n",
              "      <td>0</td>\n",
              "      <td>0</td>\n",
              "    </tr>\n",
              "    <tr>\n",
              "      <th>1</th>\n",
              "      <td>1</td>\n",
              "      <td>55</td>\n",
              "      <td>2</td>\n",
              "      <td>0</td>\n",
              "      <td>0</td>\n",
              "      <td>0</td>\n",
              "      <td>0</td>\n",
              "      <td>0</td>\n",
              "      <td>0</td>\n",
              "      <td>0</td>\n",
              "      <td>0</td>\n",
              "      <td>0</td>\n",
              "      <td>0</td>\n",
              "      <td>0</td>\n",
              "      <td>0</td>\n",
              "      <td>0</td>\n",
              "      <td>0</td>\n",
              "      <td>98</td>\n",
              "      <td>0</td>\n",
              "      <td>1</td>\n",
              "      <td>0</td>\n",
              "    </tr>\n",
              "    <tr>\n",
              "      <th>2</th>\n",
              "      <td>3</td>\n",
              "      <td>27</td>\n",
              "      <td>2</td>\n",
              "      <td>1</td>\n",
              "      <td>1</td>\n",
              "      <td>0</td>\n",
              "      <td>0</td>\n",
              "      <td>0</td>\n",
              "      <td>0</td>\n",
              "      <td>0</td>\n",
              "      <td>0</td>\n",
              "      <td>0</td>\n",
              "      <td>0</td>\n",
              "      <td>0</td>\n",
              "      <td>0</td>\n",
              "      <td>0</td>\n",
              "      <td>0</td>\n",
              "      <td>98</td>\n",
              "      <td>1</td>\n",
              "      <td>1</td>\n",
              "      <td>0</td>\n",
              "    </tr>\n",
              "    <tr>\n",
              "      <th>3</th>\n",
              "      <td>4</td>\n",
              "      <td>33</td>\n",
              "      <td>1</td>\n",
              "      <td>1</td>\n",
              "      <td>1</td>\n",
              "      <td>0</td>\n",
              "      <td>0</td>\n",
              "      <td>0</td>\n",
              "      <td>1</td>\n",
              "      <td>0</td>\n",
              "      <td>0</td>\n",
              "      <td>0</td>\n",
              "      <td>0</td>\n",
              "      <td>0</td>\n",
              "      <td>0</td>\n",
              "      <td>0</td>\n",
              "      <td>0</td>\n",
              "      <td>98</td>\n",
              "      <td>1</td>\n",
              "      <td>0</td>\n",
              "      <td>0</td>\n",
              "    </tr>\n",
              "    <tr>\n",
              "      <th>4</th>\n",
              "      <td>5</td>\n",
              "      <td>58</td>\n",
              "      <td>2</td>\n",
              "      <td>0</td>\n",
              "      <td>0</td>\n",
              "      <td>0</td>\n",
              "      <td>0</td>\n",
              "      <td>0</td>\n",
              "      <td>0</td>\n",
              "      <td>0</td>\n",
              "      <td>0</td>\n",
              "      <td>0</td>\n",
              "      <td>0</td>\n",
              "      <td>0</td>\n",
              "      <td>0</td>\n",
              "      <td>0</td>\n",
              "      <td>0</td>\n",
              "      <td>100</td>\n",
              "      <td>0</td>\n",
              "      <td>1</td>\n",
              "      <td>0</td>\n",
              "    </tr>\n",
              "  </tbody>\n",
              "</table>\n",
              "</div>"
            ],
            "text/plain": [
              "   Unnamed: 0  page  psex  ss_fev  ...  ss_oxsa  img_xray  tr_chis  po_po\n",
              "0           0    27     2       0  ...       98         0        0      0\n",
              "1           1    55     2       0  ...       98         0        1      0\n",
              "2           3    27     2       1  ...       98         1        1      0\n",
              "3           4    33     1       1  ...       98         1        0      0\n",
              "4           5    58     2       0  ...      100         0        1      0\n",
              "\n",
              "[5 rows x 21 columns]"
            ]
          },
          "metadata": {},
          "execution_count": 4
        }
      ]
    },
    {
      "cell_type": "markdown",
      "metadata": {
        "id": "HJ8915oMB_Rf"
      },
      "source": [
        "Features and Outcome"
      ]
    },
    {
      "cell_type": "code",
      "metadata": {
        "id": "J_YCGhucB-zi"
      },
      "source": [
        "# define dataset\n",
        "X = df[['page','psex','ss_fev','ss_cou','ss_dys','ss_fa','co_dime','co_bp','co_kidis','co_lidis','co_cadis','co_obs','co_ild','co_imm','co_alc','co_smk','ss_oxsa','img_xray','tr_chis']]\n",
        "Y = df[['po_po']]"
      ],
      "execution_count": null,
      "outputs": []
    },
    {
      "cell_type": "markdown",
      "metadata": {
        "id": "4ZWyVqeZ5PLu"
      },
      "source": [
        "Splitting the data into train and test sets"
      ]
    },
    {
      "cell_type": "code",
      "metadata": {
        "id": "MWjz2CzB5N7m"
      },
      "source": [
        "from sklearn.model_selection import train_test_split\n",
        "X_train,X_test,Y_train,Y_test=train_test_split(X,Y)"
      ],
      "execution_count": null,
      "outputs": []
    },
    {
      "cell_type": "markdown",
      "metadata": {
        "id": "ECECcheA5cKa"
      },
      "source": [
        "Create a function for evaluating metrics"
      ]
    },
    {
      "cell_type": "code",
      "metadata": {
        "id": "ipaY7Eda5f1D"
      },
      "source": [
        "from sklearn.metrics import accuracy_score,recall_score,f1_score,precision_score,roc_auc_score,confusion_matrix\n",
        "\n",
        "def evaluation(Y_test,Y_pred):\n",
        "  acc=accuracy_score(Y_test,Y_pred)\n",
        "  rcl=recall_score(Y_test,Y_pred)\n",
        "  f1=f1_score(Y_test,Y_pred)\n",
        " \n",
        "\n",
        "  metric_dict={'accuracy': round(acc,3),\n",
        "               'recall': round(rcl,3),\n",
        "               'F1 score': round(f1,3),\n",
        "               \n",
        "              }\n",
        "\n",
        "  return print(metric_dict)"
      ],
      "execution_count": null,
      "outputs": []
    },
    {
      "cell_type": "markdown",
      "metadata": {
        "id": "IFcgOOJq5mlk"
      },
      "source": [
        "Fitting XGB Model"
      ]
    },
    {
      "cell_type": "code",
      "metadata": {
        "id": "vxdA5cdm5pXu",
        "colab": {
          "base_uri": "https://localhost:8080/"
        },
        "outputId": "9ac8f71f-a2c9-4e1d-aaec-cbd9fde930ec"
      },
      "source": [
        "from xgboost import XGBClassifier\n",
        "XGB_clf=XGBClassifier()\n",
        "XGB_clf.fit(X_train.values,Y_train.values)\n",
        "XGB_score=XGB_clf.score(X_test.values,Y_test.values)\n",
        "XGB_Y_pred=XGB_clf.predict(X_test.values)\n",
        "XGB_Y_prob=XGB_clf.predict_proba(X_test.values)\n",
        "#print(SVC_score)\n",
        "evaluation(Y_test.values,XGB_Y_pred)"
      ],
      "execution_count": null,
      "outputs": [
        {
          "output_type": "stream",
          "text": [
            "/usr/local/lib/python3.7/dist-packages/sklearn/preprocessing/_label.py:235: DataConversionWarning: A column-vector y was passed when a 1d array was expected. Please change the shape of y to (n_samples, ), for example using ravel().\n",
            "  y = column_or_1d(y, warn=True)\n",
            "/usr/local/lib/python3.7/dist-packages/sklearn/preprocessing/_label.py:268: DataConversionWarning: A column-vector y was passed when a 1d array was expected. Please change the shape of y to (n_samples, ), for example using ravel().\n",
            "  y = column_or_1d(y, warn=True)\n"
          ],
          "name": "stderr"
        },
        {
          "output_type": "stream",
          "text": [
            "{'accuracy': 0.982, 'recall': 0.211, 'F1 score': 0.308}\n"
          ],
          "name": "stdout"
        }
      ]
    },
    {
      "cell_type": "markdown",
      "metadata": {
        "id": "X5JzgufJ53ea"
      },
      "source": [
        "Tuning XGBoost manually"
      ]
    },
    {
      "cell_type": "code",
      "metadata": {
        "id": "-wj0jffy54Lj",
        "colab": {
          "base_uri": "https://localhost:8080/"
        },
        "outputId": "3bfcfa6a-ca5a-4f69-8ec1-93f6b77d5a29"
      },
      "source": [
        "xgb = XGBClassifier(learning_rate=0.01, n_estimators=25, max_depth=15,gamma=0.6, subsample=0.52,colsample_bytree=0.6,seed=27, \n",
        "                    reg_lambda=2, booster='dart', colsample_bylevel=0.6, colsample_bynode=0.5)\n",
        "\n",
        "xgb.fit(X_train.values,Y_train.values)\n",
        "xgb_score=XGB_clf.score(X_test.values,Y_test.values)\n",
        "xgb_Y_pred=XGB_clf.predict(X_test.values)\n",
        "xgb_Y_prob=XGB_clf.predict_proba(X_test.values)\n",
        "#print(SVC_score)\n",
        "evaluation(Y_test.values,xgb_Y_pred)"
      ],
      "execution_count": null,
      "outputs": [
        {
          "output_type": "stream",
          "text": [
            "{'accuracy': 0.982, 'recall': 0.211, 'F1 score': 0.308}\n"
          ],
          "name": "stdout"
        },
        {
          "output_type": "stream",
          "text": [
            "/usr/local/lib/python3.7/dist-packages/sklearn/preprocessing/_label.py:235: DataConversionWarning: A column-vector y was passed when a 1d array was expected. Please change the shape of y to (n_samples, ), for example using ravel().\n",
            "  y = column_or_1d(y, warn=True)\n",
            "/usr/local/lib/python3.7/dist-packages/sklearn/preprocessing/_label.py:268: DataConversionWarning: A column-vector y was passed when a 1d array was expected. Please change the shape of y to (n_samples, ), for example using ravel().\n",
            "  y = column_or_1d(y, warn=True)\n"
          ],
          "name": "stderr"
        }
      ]
    },
    {
      "cell_type": "markdown",
      "metadata": {
        "id": "Cke8MN0D6Ffi"
      },
      "source": [
        "Let's save our model using pickle"
      ]
    },
    {
      "cell_type": "code",
      "metadata": {
        "id": "MZxlwhVb6G1B"
      },
      "source": [
        "import pickle as pkl\n",
        "pkl.dump(XGB_clf,open(\"final_model.p\",\"wb\"))"
      ],
      "execution_count": null,
      "outputs": []
    },
    {
      "cell_type": "code",
      "metadata": {
        "id": "_DwRGjPf6QmQ",
        "colab": {
          "base_uri": "https://localhost:8080/"
        },
        "outputId": "3bb6448c-6cd7-4ef7-cb45-af1710164fcc"
      },
      "source": [
        "import sklearn\n",
        "sklearn_version = sklearn.__version__\n",
        "print(sklearn_version)"
      ],
      "execution_count": null,
      "outputs": [
        {
          "output_type": "stream",
          "text": [
            "0.22.2.post1\n"
          ],
          "name": "stdout"
        }
      ]
    },
    {
      "cell_type": "markdown",
      "metadata": {
        "id": "-hiBl8du6btH"
      },
      "source": [
        "Write a file for creating web app"
      ]
    },
    {
      "cell_type": "code",
      "metadata": {
        "id": "5u5miJRw6_Sx",
        "colab": {
          "base_uri": "https://localhost:8080/"
        },
        "outputId": "2e3480c9-e826-4f9f-b30d-aaeb045a1ba1"
      },
      "source": [
        "%%writefile covitality-app.py\n",
        "import streamlit as st\n",
        "import base64\n",
        "import sklearn\n",
        "import pandas as pd\n",
        "import numpy as np\n",
        "import pickle as pkl\n",
        "import plotly.graph_objects as go\n",
        "from csv import writer\n",
        "from tabulate import tabulate\n",
        "from sklearn.preprocessing import MinMaxScaler\n",
        "scal=MinMaxScaler()\n",
        "#Load the saved model\n",
        "#model=pkl.load(open(\"final_model.p\",\"rb\"))\n",
        "\n",
        "\n",
        "\n",
        "st.set_page_config(page_title=\"COVITALITY APP\",page_icon=\"⚕️\",layout=\"centered\",initial_sidebar_state=\"expanded\")\n",
        "\n",
        "st.sidebar.header('User Input Parameters')\n",
        "\n",
        "# load spreadsheet with data to be annotated\n",
        "def get_data():\n",
        "  return []\n",
        "\n",
        "def score(risk):\n",
        "    \n",
        "    if risk<15:\n",
        "      report = '<p style=\"font-family:sans-serif; color:Green; font-size: 20px;\">Low Mortality Risk</p>'\n",
        "      st.markdown(report, unsafe_allow_html=True)\n",
        "      st.write(\"Mortality Risk Score is \",risk)\n",
        "      #st.write(\"Low Mortality Risk\")\n",
        "    elif risk >= 15 and risk <=25:\n",
        "      report = '<p style=\"font-family:sans-serif; color:Yello; font-size: 20px;\">Moderate Mortality Risk</p>'\n",
        "      st.markdown(report, unsafe_allow_html=True)\n",
        "      st.write(\"Mortality Risk Score is \",risk)\n",
        "      #st.write(\"Moderate Mortality Risk\")\n",
        "    else :\n",
        "      report = '<p style=\"font-family:sans-serif; color:Red; font-size: 20px;\">High Mortality Risk</p>'\n",
        "      st.markdown(report, unsafe_allow_html=True)\n",
        "      st.write(\"Mortality Risk Score is \",risk)\n",
        "      #st.write(\"High Mortality Risk\")\n",
        "\n",
        "\n",
        "def preprocess(page,psex,ss_fev,ss_cou,ss_dys,ss_fa,co_dime,co_bp,co_kidis,co_lidis,co_cadis,co_obs,co_ild,co_imm,co_alc,co_smk,ss_oxsa,img_xray,tr_chis):   \n",
        " \n",
        "    risk = 0\n",
        "    # Pre-processing user input   \n",
        "    if page<50:\n",
        "          risk = risk+1\n",
        "    elif page >= 50 and page <=59:\n",
        "          risk = risk+2\n",
        "    else :\n",
        "          risk = risk+3\n",
        "\n",
        "    if psex==\"male\":\n",
        "          risk = risk+2\n",
        "    else: risk = risk+1\n",
        "\n",
        "    if ss_fev==\"Present\":\n",
        "          risk = risk+2\n",
        "    else: risk = risk+0\n",
        "\n",
        "    if ss_cou==\"Present\":\n",
        "          risk = risk+2\n",
        "    else: risk = risk+0\n",
        "\n",
        "    if ss_dys==\"Present\":\n",
        "          risk = risk+2\n",
        "    else: risk = risk+0\n",
        "\n",
        "    if ss_fa==\"Present\":\n",
        "          risk = risk+2\n",
        "    else:  risk = risk+0\n",
        "\n",
        "    if co_dime==\"Present\":\n",
        "          risk = risk+2\n",
        "    else:  risk = risk+0\n",
        "\n",
        "    if co_bp==\"Present\":\n",
        "          risk = risk+3\n",
        "    else: risk = risk+1\n",
        "\n",
        "    if co_kidis==\"Present\":\n",
        "          risk = risk+3\n",
        "    else:  risk = risk+1\n",
        "\n",
        "    if co_lidis==\"Present\":\n",
        "          risk = risk+3\n",
        "    else:  risk = risk+1\n",
        "\n",
        "    if co_cadis==\"Present\":\n",
        "          risk = risk+3\n",
        "    else:  risk = risk+1\n",
        "\n",
        "    if co_obs==\"Present\":\n",
        "          risk = risk+3\n",
        "    else:  risk = risk+0\n",
        "\n",
        "    if co_ild==\"Present\":\n",
        "          risk = risk+3\n",
        "    else:  risk = risk+0\n",
        "\n",
        "    if co_imm==\"Yes\":\n",
        "          risk = risk+3\n",
        "    else:  risk = risk+0\n",
        "\n",
        "    if co_alc==\"Yes\":\n",
        "          risk = risk+3\n",
        "    else:  risk = risk+0\n",
        "\n",
        "    if co_smk==\"Yes\":\n",
        "          risk = risk+3\n",
        "    else:  risk = risk+1\n",
        "\n",
        "    if ss_oxsa<90:\n",
        "          risk = risk+4\n",
        "    elif ss_oxsa >= 90 and ss_oxsa <=95:\n",
        "          risk = risk+2\n",
        "    else :\n",
        "          risk = risk+0\n",
        "\n",
        "    if img_xray==\"Abnormal\":\n",
        "          risk = risk+3\n",
        "    else: risk = risk+2\n",
        "\n",
        "    if tr_chis==\"Yes\":\n",
        "          risk = risk+1\n",
        "    else: risk = risk+0\n",
        "\n",
        "\n",
        "    \n",
        "    #user_input=np.array(user_input)\n",
        "    #user_input=user_input.reshape(1,-1)\n",
        "    #user_input=scal.fit_transform(user_input)\n",
        "    return risk\n",
        "\n",
        "    \n",
        "\n",
        "       \n",
        "    # front end elements of the web page \n",
        "html_temp = \"\"\" \n",
        "    <div style =\"background-color:#7D0552;padding:13px\"> \n",
        "    <h1 style =\"color:white;text-align:center;\">COVITALITY APP</h1> \n",
        "    </div> \n",
        "    \"\"\"\n",
        "      \n",
        "# display the front end aspect\n",
        "st.markdown(html_temp, unsafe_allow_html = True) \n",
        "st.subheader('by MANUSREE BANERJEE ')\n",
        "      \n",
        "# following lines create boxes in which user can enter data required to make prediction\n",
        "pname = st.sidebar.text_input('Patient Name')\n",
        "pid = st.sidebar.text_input('Patient ID')\n",
        "page=st.sidebar.slider(\"Age\",1,100)\n",
        "psex = st.sidebar.radio(\"Select Gender: \", ('male', 'female'))\n",
        "ss_fev = st.sidebar.selectbox('Fever',(\"Present\",\"Absent\")) \n",
        "ss_cou = st.sidebar.selectbox('Cough', (\"Present\",\"Absent\"))\n",
        "ss_dys = st.sidebar.selectbox('Dyspnea', (\"Present\",\"Absent\"))\n",
        "ss_fa = st.sidebar.selectbox('Fatigue', (\"Present\",\"Absent\"))\n",
        "co_dime = st.sidebar.selectbox('Diabetes Mellitus', (\"Present\",\"Absent\"))\n",
        "co_bp = st.sidebar.selectbox('Hypertension', (\"Present\",\"Absent\"))\n",
        "co_kidis = st.sidebar.selectbox('Chronic kidney disease', (\"Present\",\"Absent\"))\n",
        "co_lidis = st.sidebar.selectbox('Chronic liver disease', (\"Present\",\"Absent\"))\n",
        "co_cadis = st.sidebar.selectbox('Chronic cardiac disease', (\"Present\",\"Absent\"))\n",
        "co_obs = st.sidebar.selectbox('Obesity', (\"Present\",\"Absent\"))\n",
        "co_ild = st.sidebar.selectbox('Chronic pulmonary disease ', (\"Present\",\"Absent\"))\n",
        "co_imm = st.sidebar.selectbox('Is patient on Immunosuppressant / Steroids ?', (\"Yes\",\"No\"))\n",
        "co_alc = st.sidebar.selectbox('Did patient drink alcohol within past 5 years ?', (\"Yes\",\"No\"))\n",
        "co_smk = st.sidebar.selectbox('Did patient smoke within past 5 years ?', (\"Yes\",\"No\"))\n",
        "ss_oxsa = st.sidebar.slider('Oxygen Saturation',0,100)\n",
        "img_xray = st.sidebar.selectbox('X-ray report ', (\"Normal\",\"Abnormal\"))\n",
        "tr_chis = st.sidebar.selectbox('Contact/Travel history', (\"Yes\",\"No\"))\n",
        "\n",
        "\n",
        "\n",
        "#user_input=preprocess(psex,ss_fev,ss_cou,ss_dys,ss_fa,co_dime,co_bp,co_kidis,co_lidis,co_cadis,co_obs,co_ild,co_imm,co_alc,co_smk,img_xray,tr_chis)\n",
        "#pred=preprocess(page,psex,ss_fev,ss_cou,ss_dys,ss_fa,co_dime,co_bp,co_kidis,co_lidis,co_cadis,co_obs,co_ild,co_imm,co_alc,co_smk,ss_oxsa,img_xray,tr_chis)\n",
        "#probability_class_1 = pred.item(1)\n",
        "#prob = round(probability_class_1*100,1)\n",
        "\n",
        "risk = preprocess(page,psex,ss_fev,ss_cou,ss_dys,ss_fa,co_dime,co_bp,co_kidis,co_lidis,co_cadis,co_obs,co_ild,co_imm,co_alc,co_smk,ss_oxsa,img_xray,tr_chis)\n",
        "\n",
        "if st.button(\"Risk Strata Key\"):\n",
        "  # display table\n",
        "  fig=go.Figure(data=go.Table(header=dict(values=['Risk Category', 'Risk Score'],fill_color='#FD8E72',font_size=18,align='center'),\n",
        "                            cells=dict(values=[['Low','Moderate','High'],['10-14','15-25','25-50']],fill_color='#F9B7FF',font_color=['black'],font_size=14,align='center')))\n",
        "\n",
        "  #fig.update_layout(autosize=True,margin=dict(l=0,r=0,b=0,t=0))\n",
        "  fig.update_layout(autosize=False,\n",
        "                  width=800,\n",
        "                  height=350\n",
        "                 )\n",
        "  st.write(fig)\n",
        "\n",
        "if st.button(\"Predict\"):    \n",
        "  mortality = score(risk)\n",
        "  st.info(\"Don't forget to rate this app\")\n",
        "  \n",
        "feedback = st.slider('How much would you rate this app?',min_value=0,max_value=5,step=1)\n",
        "  \n",
        "if feedback:\n",
        "    st.header(\"Thank you for rating the app!\")\n",
        "\n",
        "#if st.button(\"Predict\"):    \n",
        " # if pred[0] == 0:\n",
        "  #  st.error('You have higher chances of surviving COVID-19.')\n",
        "    \n",
        "  #else:\n",
        "   # st.success('Warning! You have lower chances of surviving COVID-19!')\n",
        "    \n",
        "   \n",
        "\n",
        "st.subheader(\"About App\")\n",
        "\n",
        "st.info(\"This web app is helps you to find out whether you are at a risk of mortality from COVID-19.\")\n",
        "st.info(\"Enter the required fields and click on the 'Predict' button to check your survival chances from COVID-19.\")\n",
        "st.info(\"Build using Extreme Gradient Boosting Model with AUC score of 94%.\")\n",
        "\n",
        "\n",
        "st.caption(\"Caution: This is just a prediction and not doctoral advice. Kindly see a doctor if you feel the symptoms persist.\") \n"
      ],
      "execution_count": 106,
      "outputs": [
        {
          "output_type": "stream",
          "text": [
            "Overwriting covitality-app.py\n"
          ],
          "name": "stdout"
        }
      ]
    },
    {
      "cell_type": "code",
      "metadata": {
        "id": "eSGa9cI-Cmq0",
        "colab": {
          "base_uri": "https://localhost:8080/"
        },
        "outputId": "95f20690-6f33-4bbb-9bb4-4fc030f6a69d"
      },
      "source": [
        "!ls"
      ],
      "execution_count": null,
      "outputs": [
        {
          "output_type": "stream",
          "text": [
            "covitality-app.py  sample_data\n"
          ],
          "name": "stdout"
        }
      ]
    },
    {
      "cell_type": "code",
      "metadata": {
        "id": "MujRuin2z3k1"
      },
      "source": [
        "!streamlit run covitality-app.py &>/dev/null&"
      ],
      "execution_count": 108,
      "outputs": []
    },
    {
      "cell_type": "code",
      "metadata": {
        "id": "-vONjCrz1xQI",
        "colab": {
          "base_uri": "https://localhost:8080/",
          "height": 35
        },
        "outputId": "518e7ca3-9e9e-48af-dd8b-c64872fbf859"
      },
      "source": [
        "from pyngrok import ngrok\n",
        "# Setup a tunnel to the streamlit port 8501\n",
        "public_url = ngrok.connect(port='8501')\n",
        "public_url"
      ],
      "execution_count": 109,
      "outputs": [
        {
          "output_type": "execute_result",
          "data": {
            "application/vnd.google.colaboratory.intrinsic+json": {
              "type": "string"
            },
            "text/plain": [
              "'http://ee3e-146-148-44-202.ngrok.io'"
            ]
          },
          "metadata": {},
          "execution_count": 109
        }
      ]
    },
    {
      "cell_type": "code",
      "metadata": {
        "id": "KEEmRYe90Jrj"
      },
      "source": [
        "ngrok.kill()"
      ],
      "execution_count": 107,
      "outputs": []
    }
  ]
}
